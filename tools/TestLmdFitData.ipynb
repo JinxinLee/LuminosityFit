{
 "cells": [
  {
   "cell_type": "code",
   "execution_count": null,
   "metadata": {},
   "outputs": [],
   "source": [
    "TFile *myfile = new TFile(\"/mnt/work/PandaRoot/docs/Jupyter/notebooks/psi2s_jpsi2pi_jpsi_mumu_sim.root\");\n",
    "TTree *mytree = (TTree*)myfile->Get(\"pndsim\");\n",
    "TCanvas *can = new TCanvas();\n",
    "mytree->Draw(\"MCTrack.fStartZ\",\"\");\n",
    "can->Draw();"
   ]
  },
  {
   "cell_type": "code",
   "execution_count": 16,
   "metadata": {},
   "outputs": [
    {
     "name": "stderr",
     "output_type": "stream",
     "text": [
      "input_line_109:11:57: error: expected expression\n",
      "PndLmdFitDataBundle *dataBundle = (PndLmdFitDataBundle *)f->Get(\"lmd_elastic_data_bundle\");\n",
      "                                                        ^\n",
      "input_line_109:12:1: error: unknown type name 'PndLmdElasticDataBundle'\n",
      "PndLmdElasticDataBundle elasticDataBundle = dataBundle->getCurrentElasticBundle();\n",
      "^\n",
      "input_line_109:12:45: error: use of undeclared identifier 'dataBundle'\n",
      "PndLmdElasticDataBundle elasticDataBundle = dataBundle->getCurrentElasticBundle();\n",
      "                                            ^\n"
     ]
    }
   ],
   "source": [
    "//#import \"../data/PndLmdFitDataBundle.h\"\n",
    "\n",
    "gSystem->Load(\"libLmdFitData\");\n",
    "\n",
    "std::string filename = \"/mnt/work/himsterData/LumiFit/plab_4.06GeV/dpm_elastic_theta_2.7-13.0mrad_recoil_corrected/ip_offset_XYZDXDYDZ_0.0_0.0_0.0_0.0_0.0_0.0/beam_grad_XYDXDY_0.0_0.0_0.0_0.0/no_geo_misalignment/100000/1-100_xy_m_cut_real/no_alignment_correction/bunches_10/binning_300/merge_data/lmd_fitted_data.root\";\n",
    "std::string outname = \"manniIsCool\";\n",
    "\n",
    "TFile *f = new TFile(filename.c_str());\n",
    "\n",
    "PndLmdFitDataBundle *dataBundle = (PndLmdFitDataBundle *)f->Get(\"lmd_elastic_data_bundle\");\n",
    "PndLmdElasticDataBundle elasticDataBundle = dataBundle->getCurrentElasticBundle();\n",
    "\n",
    "TH2D *lmdHist = elasticDataBundle.get2DHistogram();\n",
    "\n",
    "TCanvas *c = new TCanvas(\"c1\", \"c1\", 640, 640);\n",
    "if (lmdHist) {\n",
    "    lmdHist->SetTitle(\"LMD Fitted Data\");\n",
    "    lmdHist->Draw(\"colz\");\n",
    "    c->Draw();\n",
    "} else {\n",
    "    cout << \"nej on the hist\\n\";\n",
    "}\n",
    "c->Print(outname.c_str() + TString(\".png\"));"
   ]
  }
 ],
 "metadata": {
  "kernelspec": {
   "display_name": "PandaRoot C++",
   "language": "c++",
   "name": "pandarootcpp"
  },
  "language_info": {
   "codemirror_mode": "text/x-c++src",
   "file_extension": ".C",
   "mimetype": " text/x-c++src",
   "name": "c++"
  },
  "orig_nbformat": 4,
  "vscode": {
   "interpreter": {
    "hash": "767d51c1340bd893661ea55ea3124f6de3c7a262a8b4abca0554b478b1e2ff90"
   }
  }
 },
 "nbformat": 4,
 "nbformat_minor": 2
}
