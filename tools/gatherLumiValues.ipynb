{
 "cells": [
  {
   "cell_type": "code",
   "execution_count": 23,
   "metadata": {},
   "outputs": [],
   "source": [
    "# absolute imports\n",
    "import json, os, sys\n",
    "from pathlib import Path\n",
    "\n",
    "# relative imports\n",
    "sys.path.append(os.getcwd() + \"/..\")\n",
    "from python.lumifit.general import load_params_from_file\n",
    "from python.lumifit.experiment import Experiment\n",
    "from python.lumifit.simulation import generateDirectory, SimulationParameters\n",
    "from python.lumifit.reconstruction import ReconstructionParameters, generateRecoDirSuffix\n",
    "from python.lumifit.alignment import AlignmentParameters"
   ]
  },
  {
   "cell_type": "code",
   "execution_count": 24,
   "metadata": {},
   "outputs": [],
   "source": [
    "def getLumiDevFromExp(exp: Experiment) -> float:\n",
    "\n",
    "    alignParams = exp.alignParams\n",
    "    recoParams = exp.recoParams\n",
    "    simParams = exp.simParams\n",
    "\n",
    "    # recoDir = Path(generateDirectory(simParams, alignParams)) / generateRecoDirSuffix(recoParams, alignParams)\n",
    "    recoDir = exp.baseDataOutputDir / generateRecoDirSuffix(recoParams, alignParams)\n",
    "    lumiValuesFile = Path(recoDir).glob(\"bunches_*/binning_*/merge_data/lumi*\")\n",
    "\n",
    "    for res in lumiValuesFile:\n",
    "        with open(res, \"r\") as f:\n",
    "            lumiValues = json.load(f)\n",
    "        return round(float(lumiValues[\"relative_deviation_in_percent\"]), 2)\n",
    "\n",
    "    return None"
   ]
  },
  {
   "cell_type": "code",
   "execution_count": 25,
   "metadata": {},
   "outputs": [],
   "source": [
    "def getRecoIP(exp: Experiment):\n",
    "    recoDir = exp.baseDataOutputDir / \"1-100_uncut/no_alignment_correction\"\n",
    "    lumiValuesFile = Path(recoDir).glob(\"bunches_*/binning_*/merge_data/reco_ip*\")\n",
    "\n",
    "    for res in lumiValuesFile:\n",
    "        with open(res, \"r\") as f:\n",
    "            lumiValues = json.load(f)\n",
    "        return round(float(lumiValues[\"ip_x\"])*1e4, 2), round(float(lumiValues[\"ip_y\"])*1e4, 2)\n",
    "        \n"
   ]
  },
  {
   "cell_type": "code",
   "execution_count": 26,
   "metadata": {},
   "outputs": [
    {
     "name": "stdout",
     "output_type": "stream",
     "text": [
      "| Mom   | Matrix                | Deviation | IP Pos. |\n",
      "| ----- | --------------------- | --------- | - |\n",
      "| 15.0 | misMat-nothing-2piO2 | 0.23 | (-98.12, 35.19) | \n",
      "| 8.9 | misMat-nothing-2piO8 | -2.49 | (-25.32, 32.86) | \n",
      "| 15.0 | misMat-nothing-2piO10 | -13.34 | (-51.5, 16.6) | \n",
      "| 1.5 | misMat-nothing-2piO12 | -2.7 | (-110.42, 22.46) | \n",
      "| 8.9 | misMat-nothing-2pi | -0.12 | (-69.05, 1.84) | \n",
      "| 8.9 | misMat-nothing-2piO4 | -0.61 | (-44.74, 37.49) | \n",
      "| 1.5 | misMat-nothing-2pi | -1.24 | (-107.65, 32.61) | \n",
      "| 1.5 | misMat-nothing-2piO4 | -0.12 | (-108.16, 11.06) | \n",
      "| 15.0 | misMat-nothing-2piO4 | -0.27 | (-69.41, 28.64) | \n",
      "| 1.5 | misMat-nothing-2piO8 | -6.36 | (-93.67, 24.77) | \n",
      "| 15.0 | misMat-nothing-2piO8 | -1.45 | (-56.86, 22.04) | \n",
      "| 1.5 | misMat-nothing-2piO10 | -12.91 | (-112.24, 16.8) | \n",
      "| 8.9 | misMat-nothing-2piO12 | -7.22 | (-27.28, 21.21) | \n",
      "| 8.9 | misMat-nothing-2piO10 | -9.2 | (-26.61, 26.49) | \n",
      "| 15.0 | misMat-nothing-2pi | -1.28 | (-94.03, 4.12) | \n",
      "| 8.9 | misMat-nothing-2piO2 | -3.13 | (-81.43, 45.55) | \n",
      "| 1.5 | misMat-nothing-2piO2 | -0.4 | (-99.13, 24.81) | \n",
      "| 15.0 | misMat-nothing-2piO12 | -33.08 | (-51.04, 12.11) | \n"
     ]
    }
   ],
   "source": [
    "configPath = Path(\"../python/expConfigs/PANDA/restrictPhi/\")\n",
    "\n",
    "print('| Mom   | Matrix                | Deviation | IP Pos. |\\n| ----- | --------------------- | --------- | - |')\n",
    "\n",
    "for file in configPath.iterdir():\n",
    "    exp = load_params_from_file(str(file), Experiment)\n",
    "    exp.recoParams.use_ip_determination = True\n",
    "\n",
    "    # for now, those sims don't exist\n",
    "    if exp.simParams.lab_momentum == 11.91 or exp.simParams.lab_momentum == 4.06:\n",
    "        continue\n",
    "\n",
    "    print(f'| {exp.recoParams.lab_momentum} | {exp.alignParams.misalignment_matrices_path.stem} | {getLumiDevFromExp(exp)} | {getRecoIP(exp)} | ')\n",
    "    # break\n"
   ]
  },
  {
   "cell_type": "code",
   "execution_count": null,
   "metadata": {},
   "outputs": [],
   "source": []
  }
 ],
 "metadata": {
  "kernelspec": {
   "display_name": "Python 3",
   "language": "python",
   "name": "python3"
  },
  "language_info": {
   "codemirror_mode": {
    "name": "ipython",
    "version": 3
   },
   "file_extension": ".py",
   "mimetype": "text/x-python",
   "name": "python",
   "nbconvert_exporter": "python",
   "pygments_lexer": "ipython3",
   "version": "3.7.3"
  },
  "orig_nbformat": 4,
  "vscode": {
   "interpreter": {
    "hash": "31f2aee4e71d21fbe5cf8b01ff0e069b9275f58929596ceb00d14d90e3e16cd6"
   }
  }
 },
 "nbformat": 4,
 "nbformat_minor": 2
}
