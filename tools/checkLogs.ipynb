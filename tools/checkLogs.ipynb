{
 "cells": [
  {
   "cell_type": "code",
   "execution_count": 1,
   "metadata": {},
   "outputs": [],
   "source": [
    "import re\n",
    "from pathlib import Path"
   ]
  },
  {
   "cell_type": "code",
   "execution_count": 2,
   "metadata": {},
   "outputs": [],
   "source": [
    "fromBackup = False\n",
    "\n",
    "if fromBackup:\n",
    "    pathSeg0 = \"LumiFit/backup_beamTiltEnabled/plab_\"\n",
    "    pathSeg1 = \"GeV/dpm_elastic_theta_2.7-13.0mrad_recoil_corrected/no_geo_misalignment/100000/1-100_xy_m_cut_real/no_alignment_correction/**/binning_300/merge_data/\"\n",
    "    moms = (\"1.50\", \"4.06\", \"8.90\", \"11.91\", \"15.00\")\n",
    "\n",
    "else:\n",
    "    pathSeg0 = \"LumiFit/plab_\"\n",
    "    pathSeg1 = \"GeV/dpm_elastic_theta_2.7-13.0mrad_recoil_corrected/ip_offset_XYZDXDYDZ_0.0_0.0_0.0_0.0_0.0_0.0/beam_grad_XYDXDY_0.0_0.0_0.0_0.0/no_geo_misalignment/100000/1-100_xy_m_cut_real/no_alignment_correction/**/binning_300/merge_data/\"\n",
    "    moms = (\"1.50\", \"4.06\", \"8.90\", \"11.91\", \"15.00\")\n",
    "\n",
    "logFileName = 'runLmdFit.log'"
   ]
  },
  {
   "cell_type": "code",
   "execution_count": 3,
   "metadata": {},
   "outputs": [
    {
     "name": "stdout",
     "output_type": "stream",
     "text": [
      "mom: 1.50\n",
      "FVAL  = -50.8749015861139924\n",
      "\n",
      "measured luminosity:441201\n",
      "\n",
      "measured luminosity error:299.29\n",
      "\n",
      "generated luminosity:441143\n",
      "\n",
      "relative deviation (%):0.0131336\n",
      "\n",
      "------\n",
      "mom: 4.06\n",
      "FVAL  = -1163.70603413403296\n",
      "\n",
      "measured luminosity:3.42723e+06\n",
      "\n",
      "measured luminosity error:2333.03\n",
      "\n",
      "generated luminosity:3.44017e+06\n",
      "\n",
      "relative deviation (%):-0.376233\n",
      "\n",
      "------\n",
      "mom: 11.91\n",
      "FVAL  = -862.768317211095564\n",
      "\n",
      "measured luminosity:3.49257e+06\n",
      "\n",
      "measured luminosity error:2558.58\n",
      "\n",
      "generated luminosity:3.49302e+06\n",
      "\n",
      "relative deviation (%):-0.0128085\n",
      "\n",
      "------\n"
     ]
    }
   ],
   "source": [
    "for mom in moms:\n",
    "    pattern = str(pathSeg0 + mom + pathSeg1 + logFileName)\n",
    "    pathCands = Path(\"/mnt/work/himsterData\").glob(pattern)\n",
    "    for path in pathCands:\n",
    "        # print(f'oi! path is: {path}')\n",
    "        with open(path, \"r\") as f:\n",
    "            logContent = f.readlines()\n",
    "\n",
    "        for line in logContent:\n",
    "            if line.startswith(\"FVAL\"):\n",
    "                print(f\"mom: {mom}\")\n",
    "                print(line)\n",
    "            if line.startswith(\"measured\"):\n",
    "                print(line)\n",
    "            if line.startswith(\"generated\"):\n",
    "                print(line)\n",
    "            if line.startswith(\"relative deviation (%)\"):\n",
    "                print(line)\n",
    "        print(\"------\")\n"
   ]
  },
  {
   "cell_type": "code",
   "execution_count": null,
   "metadata": {},
   "outputs": [],
   "source": []
  }
 ],
 "metadata": {
  "kernelspec": {
   "display_name": "Python 3.10.6 64-bit",
   "language": "python",
   "name": "python3"
  },
  "language_info": {
   "codemirror_mode": {
    "name": "ipython",
    "version": 3
   },
   "file_extension": ".py",
   "mimetype": "text/x-python",
   "name": "python",
   "nbconvert_exporter": "python",
   "pygments_lexer": "ipython3",
   "version": "3.7.3"
  },
  "orig_nbformat": 4,
  "vscode": {
   "interpreter": {
    "hash": "767d51c1340bd893661ea55ea3124f6de3c7a262a8b4abca0554b478b1e2ff90"
   }
  }
 },
 "nbformat": 4,
 "nbformat_minor": 2
}
