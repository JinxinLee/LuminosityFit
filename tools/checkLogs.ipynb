{
 "cells": [
  {
   "cell_type": "code",
   "execution_count": null,
   "metadata": {},
   "outputs": [],
   "source": [
    "import re"
   ]
  },
  {
   "cell_type": "code",
   "execution_count": 29,
   "metadata": {},
   "outputs": [],
   "source": [
    "fromBackup = False\n",
    "\n",
    "if fromBackup:\n",
    "    pathSeg0 = \"/mnt/himsterData/roklasen/LumiFit/backup_beamTiltEnabled/plab_\"\n",
    "    pathSeg1 = \"GeV/dpm_elastic_theta_2.7-13.0mrad_recoil_corrected/no_geo_misalignment/100000/1-100_xy_m_cut_real/no_alignment_correction/bunches_10/binning_300/merge_data/\"\n",
    "    moms = (\"1.5\", \"4.06\", \"8.9\", \"11.91\", \"15.0\")\n",
    "\n",
    "else:\n",
    "    pathSeg0 = \"/mnt/himsterData/roklasen/LumiFit/plab_\"\n",
    "    pathSeg1 = \"GeV/dpm_elastic_theta_2.7-13.0mrad_recoil_corrected/ip_offset_XYZDXDYDZ_0.0_0.0_0.0_0.0_0.0_0.0/beam_grad_XYDXDY_0.0_0.0_0.0_0.0/no_geo_misalignment/100000/1-100_xy_m_cut_real/no_alignment_correction/bunches_10/binning_300/merge_data/\"\n",
    "    moms = (\"1.5\", \"4.1\", \"8.9\", \"11.9\", \"15.0\")\n",
    "\n",
    "logFileName = 'runLmdFit.log'"
   ]
  },
  {
   "cell_type": "code",
   "execution_count": 32,
   "metadata": {},
   "outputs": [
    {
     "name": "stdout",
     "output_type": "stream",
     "text": [
      "FVAL  = -1711.58526122382955\n",
      "\n",
      "relative deviation (%):-0.775388\n",
      "\n",
      "FVAL  = -28446.9999882550765\n",
      "\n",
      "relative deviation (%):3.60137\n",
      "\n",
      "FVAL  = -1015.02353874742312\n",
      "\n",
      "relative deviation (%):0.0582567\n",
      "\n",
      "FVAL  = -217.456745749583206\n",
      "\n",
      "relative deviation (%):0.195124\n",
      "\n",
      "FVAL  = -742.379114274377571\n",
      "\n",
      "relative deviation (%):-0.0035638\n",
      "\n"
     ]
    }
   ],
   "source": [
    "for mom in moms:\n",
    "    with open(pathSeg0 + mom + pathSeg1 + logFileName, \"r\") as f:\n",
    "        logContent = f.readlines()\n",
    "\n",
    "    for line in logContent:\n",
    "        if line.startswith(\"FVAL\"):\n",
    "            print(line)\n",
    "        if line.startswith(\"relative deviation (%)\"):\n",
    "            print(line)\n",
    "    print('------')\n"
   ]
  },
  {
   "cell_type": "code",
   "execution_count": null,
   "metadata": {},
   "outputs": [],
   "source": []
  }
 ],
 "metadata": {
  "kernelspec": {
   "display_name": "Python 3.10.5 ('.venv': venv)",
   "language": "python",
   "name": "python3"
  },
  "language_info": {
   "codemirror_mode": {
    "name": "ipython",
    "version": 3
   },
   "file_extension": ".py",
   "mimetype": "text/x-python",
   "name": "python",
   "nbconvert_exporter": "python",
   "pygments_lexer": "ipython3",
   "version": "3.10.5"
  },
  "orig_nbformat": 4,
  "vscode": {
   "interpreter": {
    "hash": "764600cfca9eb341770f9a9d745c12cb1bbc880e74ff72385d7e716b6867bf22"
   }
  }
 },
 "nbformat": 4,
 "nbformat_minor": 2
}
