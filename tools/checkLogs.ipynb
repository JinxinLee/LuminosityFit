{
 "cells": [
  {
   "cell_type": "code",
   "execution_count": 58,
   "metadata": {},
   "outputs": [],
   "source": [
    "import re\n",
    "from pathlib import Path"
   ]
  },
  {
   "cell_type": "code",
   "execution_count": 59,
   "metadata": {},
   "outputs": [],
   "source": [
    "fromBackup = False\n",
    "\n",
    "if fromBackup:\n",
    "    pathSeg0 = \"roklasen/LumiFit/backup_beamTiltEnabled/plab_\"\n",
    "    pathSeg1 = \"GeV/dpm_elastic_theta_2.7-13.0mrad_recoil_corrected/no_geo_misalignment/100000/1-100_xy_m_cut_real/no_alignment_correction/**/binning_300/merge_data/\"\n",
    "    moms = (\"1.50\", \"4.06\", \"8.90\", \"11.91\", \"15.00\")\n",
    "\n",
    "else:\n",
    "    pathSeg0 = \"roklasen/LumiFit/plab_\"\n",
    "    pathSeg1 = \"GeV/dpm_elastic_theta_2.7-13.0mrad_recoil_corrected/ip_offset_XYZDXDYDZ_0.0_0.0_0.0_0.0_0.0_0.0/beam_grad_XYDXDY_0.0_0.0_0.0_0.0/no_geo_misalignment/100000/1-100_xy_m_cut_real/no_alignment_correction/**/binning_300/merge_data/\"\n",
    "    moms = (\"1.50\", \"4.06\", \"8.90\", \"11.91\", \"15.00\")\n",
    "\n",
    "logFileName = 'runLmdFit.log'"
   ]
  },
  {
   "cell_type": "code",
   "execution_count": 60,
   "metadata": {},
   "outputs": [
    {
     "name": "stdout",
     "output_type": "stream",
     "text": [
      "mom: 1.50\n",
      "FVAL  = -21.8635447399228724\n",
      "\n",
      "relative deviation (%):-0.0583968\n",
      "\n",
      "------\n",
      "mom: 4.06\n",
      "FVAL  = -643.516311206272803\n",
      "\n",
      "relative deviation (%):-0.267074\n",
      "\n",
      "------\n",
      "mom: 8.90\n",
      "FVAL  = -533.76824594669597\n",
      "\n",
      "relative deviation (%):-0.114757\n",
      "\n",
      "------\n",
      "mom: 11.91\n",
      "FVAL  = -369.515122425512345\n",
      "\n",
      "relative deviation (%):-0.0439171\n",
      "\n",
      "------\n",
      "mom: 15.00\n",
      "FVAL  = -855.330526737861874\n",
      "\n",
      "relative deviation (%):-0.0152774\n",
      "\n",
      "------\n"
     ]
    }
   ],
   "source": [
    "for mom in moms:\n",
    "    pattern = str(pathSeg0 + mom + pathSeg1 + logFileName)\n",
    "    pathCands = Path(\"/mnt/himsterData\").glob(pattern)\n",
    "    for path in pathCands:\n",
    "        with open(path, \"r\") as f:\n",
    "            logContent = f.readlines()\n",
    "\n",
    "        for line in logContent:\n",
    "            if line.startswith(\"FVAL\"):\n",
    "                print(f\"mom: {mom}\")\n",
    "                print(line)\n",
    "            if line.startswith(\"relative deviation (%)\"):\n",
    "                print(line)\n",
    "        print(\"------\")\n"
   ]
  },
  {
   "cell_type": "code",
   "execution_count": null,
   "metadata": {},
   "outputs": [],
   "source": []
  }
 ],
 "metadata": {
  "kernelspec": {
   "display_name": "Python 3.10.5 ('.venv': venv)",
   "language": "python",
   "name": "python3"
  },
  "language_info": {
   "codemirror_mode": {
    "name": "ipython",
    "version": 3
   },
   "file_extension": ".py",
   "mimetype": "text/x-python",
   "name": "python",
   "nbconvert_exporter": "python",
   "pygments_lexer": "ipython3",
   "version": "3.10.5"
  },
  "orig_nbformat": 4,
  "vscode": {
   "interpreter": {
    "hash": "764600cfca9eb341770f9a9d745c12cb1bbc880e74ff72385d7e716b6867bf22"
   }
  }
 },
 "nbformat": 4,
 "nbformat_minor": 2
}
