{
 "cells": [
  {
   "cell_type": "code",
   "execution_count": 1,
   "metadata": {},
   "outputs": [],
   "source": [
    "import numpy as np\n",
    "import uproot\n",
    "from collections import defaultdict  # to concatenate dictionaries"
   ]
  },
  {
   "cell_type": "code",
   "execution_count": 2,
   "metadata": {},
   "outputs": [],
   "source": [
    "directory = \"/mnt/himsterData/roklasen/LumiFit//plab_1.50GeV/dpm_elastic_theta_2.7-13.0mrad_recoil_corrected/ip_offset_XYZDXDYDZ_0.0_0.0_0.0_0.0_0.0_0.0/beam_grad_XYDXDY_0.0_0.0_0.0_0.0/no_geo_misalignment/100000/1-100_xy_m_cut_real/no_alignment_correction/\"\n",
    "fileName = \"Lumi_TrksQA_100000.root\""
   ]
  },
  {
   "cell_type": "code",
   "execution_count": 3,
   "metadata": {},
   "outputs": [],
   "source": [
    "def getIPfromTrksQA(filename, cut=2.0, sensor=-1, module=-1, plane=-1, half=-1):\n",
    "\n",
    "    # uproot.iterate will produce a dict with JaggedArrays, so we can create an empty dict and append each iteration\n",
    "    resultDict = defaultdict(list)\n",
    "\n",
    "    try:\n",
    "        # open the root trees in a TChain-like manner\n",
    "        print('reading files...')\n",
    "        for array in uproot.iterate(filename, 'pndsim', ['LMDTrackQ.fTrkRecStatus', 'LMDTrackQ.fHalf', 'LMDTrackQ.fModule', 'LMDTrackQ.fXrec', 'LMDTrackQ.fYrec', 'LMDTrackQ.fZrec']):\n",
    "            clean = cleanArray(array)\n",
    "\n",
    "            for key in clean:\n",
    "                resultDict[key] = np.append(resultDict[key], clean[key], axis=0)\n",
    "        print(f'All files read! Performing IP alignment.')\n",
    "\n",
    "    except Exception as e:\n",
    "        print('error occured:')\n",
    "        print(e)\n",
    "        return\n",
    "\n",
    "    # great, at this point I now have a dictionary with the keys mod, x, y, z and numpy arrays for the values. perfect!\n",
    "    if cut > 0.01:\n",
    "        resultDict = percentileCut(resultDict, cut)\n",
    "\n",
    "    ip = extractIP(resultDict, module, half)\n",
    "\n",
    "    return ip\n",
    "\n",
    "\n",
    "def extractIP(cleanArray, module, half):\n",
    "\n",
    "    thalf = cleanArray['half']\n",
    "    tmod = cleanArray['mod']\n",
    "    recX = cleanArray['x']\n",
    "    recY = cleanArray['y']\n",
    "    recZ = cleanArray['z']\n",
    "\n",
    "    # apply a mask to remove outliers\n",
    "    recMask = (np.abs(recX) < 5000) & (np.abs(recY) < 5000)\n",
    "\n",
    "    if module >= 0:\n",
    "        recMask = recMask & (module == tmod)\n",
    "    if half >= 0:\n",
    "        recMask = recMask & (half == thalf)\n",
    "\n",
    "    # this is the position of the interaction point!\n",
    "    ip = [np.average(recX[recMask]), np.average(recY[recMask]), np.average(recZ[recMask]), 1.0]\n",
    "    return ip\n",
    "\n",
    "\n",
    "def percentileCut(arrayDict, cut):\n",
    "\n",
    "    # first, remove outliers that are just too large, use a mask\n",
    "    outMaskLimit = 50\n",
    "    outMask = (np.abs(arrayDict['x']) < outMaskLimit) & (np.abs(arrayDict['y']) < outMaskLimit) & (np.abs(arrayDict['z']) < outMaskLimit)\n",
    "\n",
    "    # cut outliers, this creates a copy (performance?)\n",
    "    for key in arrayDict:\n",
    "        arrayDict[key] = arrayDict[key][outMask]\n",
    "\n",
    "    # create new temp array to perform all calculations on - numpy style\n",
    "    tempArray = np.array((arrayDict['x'], arrayDict['y'], arrayDict['z'], arrayDict['mod'], arrayDict['half'])).T\n",
    "\n",
    "    # calculate cut length, we're cutting 2%\n",
    "    cut = int(len(tempArray) * (cut / 100))\n",
    "\n",
    "    # calculate approximate c.o.m. and shift\n",
    "    # don't use average, some values are far too large, median is a better estimation\n",
    "    comMed = np.median(tempArray, axis=0)\n",
    "    tempArray -= comMed\n",
    "\n",
    "    # sort by distance and cut largest\n",
    "    distSq = np.power(tempArray[:, 0], 2) + np.power(tempArray[:, 1], 2) + np.power(tempArray[:, 2], 2)\n",
    "    tempArray = tempArray[distSq.argsort()]\n",
    "    tempArray = tempArray[:-cut]\n",
    "\n",
    "    # shift back\n",
    "    tempArray += comMed\n",
    "\n",
    "    # re-save to array for return\n",
    "    arrayDict['x'] = tempArray[:, 0]\n",
    "    arrayDict['y'] = tempArray[:, 1]\n",
    "    arrayDict['z'] = tempArray[:, 2]\n",
    "    arrayDict['mod'] = tempArray[:, 3]\n",
    "    arrayDict['half'] = tempArray[:, 4]\n",
    "\n",
    "    return arrayDict\n",
    "\n",
    "\n",
    "def cleanArray(arrayDict):\n",
    "\n",
    "    # okay, so arrays is a multi dimensional array, or jagged array. some lines don't have any values,\n",
    "    # while some lines have multiple entries. a single line is an event, which is why the array is exactly\n",
    "    # 100k lines long. a line can have none, one or multiple entries, so first we need to filter out empty events:\n",
    "\n",
    "    # use just the recStatus for indexes, this tells us how many recs there are per event\n",
    "    recStatusJagged = arrayDict[b'LMDTrackQ.fTrkRecStatus']\n",
    "    nonZeroEvents = (recStatusJagged.counts > 0)\n",
    "\n",
    "    # flatten all arrays for ease of access and apply a mask.\n",
    "    # this is numpy notation to select some entries according to a criterion and works very fast:\n",
    "    half = arrayDict[b'LMDTrackQ.fHalf'][nonZeroEvents].flatten()\n",
    "    module = arrayDict[b'LMDTrackQ.fModule'][nonZeroEvents].flatten()\n",
    "    recX = arrayDict[b'LMDTrackQ.fXrec'][nonZeroEvents].flatten()\n",
    "    recY = arrayDict[b'LMDTrackQ.fYrec'][nonZeroEvents].flatten()\n",
    "    recZ = arrayDict[b'LMDTrackQ.fZrec'][nonZeroEvents].flatten()\n",
    "\n",
    "    # return a dict\n",
    "    return {'half': half, 'mod': module, 'x': recX, 'y': recY, 'z': recZ}"
   ]
  },
  {
   "cell_type": "code",
   "execution_count": 4,
   "metadata": {},
   "outputs": [],
   "source": [
    "fileTree = uproot.open(directory + fileName)['pndsim']\n",
    "\n",
    "dictIP = fileTree.arrays(\n",
    "    [\n",
    "        \"LMDTrackQ.fTrkRecStatus\",\n",
    "        \"LMDTrackQ.fXrec\",\n",
    "        \"LMDTrackQ.fYrec\",\n",
    "        \"LMDTrackQ.fZrec\",\n",
    "    ],\n",
    "    library=\"np\",\n",
    ")"
   ]
  },
  {
   "cell_type": "code",
   "execution_count": 5,
   "metadata": {},
   "outputs": [],
   "source": [
    "recStat = np.concatenate(dictIP[\"LMDTrackQ.fTrkRecStatus\"]).ravel()\n",
    "recX = np.concatenate(dictIP[\"LMDTrackQ.fXrec\"]).ravel()\n",
    "recY = np.concatenate(dictIP[\"LMDTrackQ.fYrec\"]).ravel()\n",
    "recZ = np.concatenate(dictIP[\"LMDTrackQ.fZrec\"]).ravel()\n",
    "\n",
    "mask = (recStat == 0)\n",
    "recXmask = recX[mask]\n",
    "recYmask = recY[mask]\n",
    "recZmask = recZ[mask]"
   ]
  },
  {
   "cell_type": "code",
   "execution_count": 6,
   "metadata": {},
   "outputs": [],
   "source": [
    "outarray = np.array([recXmask, recYmask, recZmask]).T\n",
    "outarrayUnmasked = np.array([recX, recY, recZ]).T"
   ]
  },
  {
   "cell_type": "code",
   "execution_count": 7,
   "metadata": {},
   "outputs": [
    {
     "name": "stdout",
     "output_type": "stream",
     "text": [
      "[-0.01176429  0.00683447  0.00060469] [-7851.15916255 -7851.15520673 -7851.15653502]\n"
     ]
    }
   ],
   "source": [
    "ip = np.average(outarray, axis=0) \n",
    "ipUnmasked = np.average(outarrayUnmasked, axis=0) \n",
    "print(ip, ipUnmasked)"
   ]
  },
  {
   "cell_type": "code",
   "execution_count": 8,
   "metadata": {},
   "outputs": [
    {
     "name": "stdout",
     "output_type": "stream",
     "text": [
      "[3.18318701 2.5015204  0.03754228]\n",
      "[-9999. -9999. -9999.]\n"
     ]
    }
   ],
   "source": [
    "maxval = np.max(outarrayUnmasked, axis=0)\n",
    "print(maxval)\n",
    "minval = np.min(outarrayUnmasked, axis=0)\n",
    "print(minval)"
   ]
  },
  {
   "cell_type": "code",
   "execution_count": null,
   "metadata": {},
   "outputs": [],
   "source": []
  }
 ],
 "metadata": {
  "kernelspec": {
   "display_name": "Python 3.10.8 64-bit",
   "language": "python",
   "name": "python3"
  },
  "language_info": {
   "codemirror_mode": {
    "name": "ipython",
    "version": 3
   },
   "file_extension": ".py",
   "mimetype": "text/x-python",
   "name": "python",
   "nbconvert_exporter": "python",
   "pygments_lexer": "ipython3",
   "version": "3.10.8"
  },
  "orig_nbformat": 4,
  "vscode": {
   "interpreter": {
    "hash": "e7370f93d1d0cde622a1f8e1c04877d8463912d04d973331ad4851f04de6915a"
   }
  }
 },
 "nbformat": 4,
 "nbformat_minor": 2
}
